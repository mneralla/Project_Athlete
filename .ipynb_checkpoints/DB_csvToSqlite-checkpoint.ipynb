{
 "cells": [
  {
   "cell_type": "code",
   "execution_count": 1,
   "metadata": {},
   "outputs": [],
   "source": [
    "from sqlalchemy import create_engine\n",
    "\n",
    "# Create the connection engine\n",
    "engine = create_engine(\"sqlite:///athletes.sqlite\")\n",
    "conn = engine.connect()"
   ]
  },
  {
   "cell_type": "code",
   "execution_count": 2,
   "metadata": {},
   "outputs": [],
   "source": [
    "import pandas as pd"
   ]
  },
  {
   "cell_type": "code",
   "execution_count": 3,
   "metadata": {},
   "outputs": [],
   "source": [
    "df = pd.read_csv('athletes_merged.csv')"
   ]
  },
  {
   "cell_type": "code",
   "execution_count": 4,
   "metadata": {},
   "outputs": [
    {
     "data": {
      "text/html": [
       "<div>\n",
       "<style scoped>\n",
       "    .dataframe tbody tr th:only-of-type {\n",
       "        vertical-align: middle;\n",
       "    }\n",
       "\n",
       "    .dataframe tbody tr th {\n",
       "        vertical-align: top;\n",
       "    }\n",
       "\n",
       "    .dataframe thead th {\n",
       "        text-align: right;\n",
       "    }\n",
       "</style>\n",
       "<table border=\"1\" class=\"dataframe\">\n",
       "  <thead>\n",
       "    <tr style=\"text-align: right;\">\n",
       "      <th></th>\n",
       "      <th>Name</th>\n",
       "      <th>Nationality</th>\n",
       "      <th>Sport</th>\n",
       "      <th>Year</th>\n",
       "      <th>earnings_million</th>\n",
       "      <th>country</th>\n",
       "      <th>latitude</th>\n",
       "      <th>longitude</th>\n",
       "    </tr>\n",
       "  </thead>\n",
       "  <tbody>\n",
       "    <tr>\n",
       "      <th>0</th>\n",
       "      <td>Mike Tyson</td>\n",
       "      <td>United States</td>\n",
       "      <td>boxing</td>\n",
       "      <td>1990</td>\n",
       "      <td>28.6</td>\n",
       "      <td>US</td>\n",
       "      <td>37.090240</td>\n",
       "      <td>-95.712891</td>\n",
       "    </tr>\n",
       "    <tr>\n",
       "      <th>1</th>\n",
       "      <td>Buster Douglas</td>\n",
       "      <td>United States</td>\n",
       "      <td>boxing</td>\n",
       "      <td>1990</td>\n",
       "      <td>26.0</td>\n",
       "      <td>US</td>\n",
       "      <td>37.090240</td>\n",
       "      <td>-95.712891</td>\n",
       "    </tr>\n",
       "    <tr>\n",
       "      <th>2</th>\n",
       "      <td>Sugar Ray Leonard</td>\n",
       "      <td>United States</td>\n",
       "      <td>boxing</td>\n",
       "      <td>1990</td>\n",
       "      <td>13.0</td>\n",
       "      <td>US</td>\n",
       "      <td>37.090240</td>\n",
       "      <td>-95.712891</td>\n",
       "    </tr>\n",
       "    <tr>\n",
       "      <th>3</th>\n",
       "      <td>Ayrton Senna</td>\n",
       "      <td>Brazil</td>\n",
       "      <td>auto racing</td>\n",
       "      <td>1990</td>\n",
       "      <td>10.0</td>\n",
       "      <td>BR</td>\n",
       "      <td>-14.235004</td>\n",
       "      <td>-51.925280</td>\n",
       "    </tr>\n",
       "    <tr>\n",
       "      <th>4</th>\n",
       "      <td>Alain Prost</td>\n",
       "      <td>France</td>\n",
       "      <td>auto racing</td>\n",
       "      <td>1990</td>\n",
       "      <td>9.0</td>\n",
       "      <td>FR</td>\n",
       "      <td>46.227638</td>\n",
       "      <td>2.213749</td>\n",
       "    </tr>\n",
       "  </tbody>\n",
       "</table>\n",
       "</div>"
      ],
      "text/plain": [
       "                Name    Nationality        Sport  Year  earnings_million  \\\n",
       "0         Mike Tyson  United States       boxing  1990              28.6   \n",
       "1     Buster Douglas  United States       boxing  1990              26.0   \n",
       "2  Sugar Ray Leonard  United States       boxing  1990              13.0   \n",
       "3       Ayrton Senna         Brazil  auto racing  1990              10.0   \n",
       "4        Alain Prost         France  auto racing  1990               9.0   \n",
       "\n",
       "  country   latitude  longitude  \n",
       "0      US  37.090240 -95.712891  \n",
       "1      US  37.090240 -95.712891  \n",
       "2      US  37.090240 -95.712891  \n",
       "3      BR -14.235004 -51.925280  \n",
       "4      FR  46.227638   2.213749  "
      ]
     },
     "execution_count": 4,
     "metadata": {},
     "output_type": "execute_result"
    }
   ],
   "source": [
    "df.head()"
   ]
  },
  {
   "cell_type": "code",
   "execution_count": 5,
   "metadata": {},
   "outputs": [
    {
     "data": {
      "text/plain": [
       "Name                 object\n",
       "Nationality          object\n",
       "Sport                object\n",
       "Year                  int64\n",
       "earnings_million    float64\n",
       "country              object\n",
       "latitude            float64\n",
       "longitude           float64\n",
       "dtype: object"
      ]
     },
     "execution_count": 5,
     "metadata": {},
     "output_type": "execute_result"
    }
   ],
   "source": [
    "df.dtypes"
   ]
  },
  {
   "cell_type": "code",
   "execution_count": 6,
   "metadata": {},
   "outputs": [],
   "source": [
    "df.to_sql(\"athletes\", conn, index=False, if_exists=\"replace\")"
   ]
  },
  {
   "cell_type": "code",
   "execution_count": null,
   "metadata": {},
   "outputs": [],
   "source": []
  },
  {
   "cell_type": "code",
   "execution_count": null,
   "metadata": {},
   "outputs": [],
   "source": [
    "# Base = declarative_base()\n",
    "# class athletes(Base):\n",
    "#     __tablename__ = 'athletes'\n",
    "#     id = Column(Integer, primary_key=True)\n",
    "#     name = Column(String(255))\n",
    "#     Nationality = Column(String(255))\n",
    "#     sport = Column(String(255))\n",
    "#     year = Column(Integer)\n",
    "#     earnings_million = Column(Decimal(10,5))\n",
    "#     country = Column(String(255))\n",
    "#     latitude = Column(Decimal(10,5))\n",
    "#     longitude = Column(Decimal(10,5))\n",
    "    \n",
    "# engine = create_engine(\"sqlite:///athletes.sqlite\")\n",
    "# conn = engine.connect()\n",
    "# Base.metadata.create_all(engine)\n",
    "\n",
    "# from sqlalchemy.orm import Session\n",
    "# session = Session(bind=engine)"
   ]
  },
  {
   "cell_type": "code",
   "execution_count": null,
   "metadata": {},
   "outputs": [],
   "source": [
    "# import csv\n",
    "# csvFilePath = 'athletes_merged.csv'\n",
    "# data = {}\n",
    "# with open(csvFilePath) as csvFile:\n",
    "#     csvReader = csv.DictReader(csvFile)\n",
    "#     for rows in csvReader:\n",
    "#         re = rows\n",
    "        \n",
    "#         athlete = athletes(\n",
    "#         name = re['Name'],\n",
    "#         Nationality = re['Nationality'],\n",
    "#         sport = re['Sport'],\n",
    "#         year = int(re['Year']),\n",
    "#         earnings_million = float(re['earnings_million']),\n",
    "#         country = re['country'],\n",
    "#         latitude = float(re['latitude']),\n",
    "#         longitude = float(re['longitude'])\n",
    "#         )        \n",
    "#         session.add(athlete)\n",
    "#         session.commit()\n",
    "    \n"
   ]
  },
  {
   "cell_type": "code",
   "execution_count": null,
   "metadata": {},
   "outputs": [],
   "source": []
  }
 ],
 "metadata": {
  "kernelspec": {
   "display_name": "Python 3",
   "language": "python",
   "name": "python3"
  },
  "language_info": {
   "codemirror_mode": {
    "name": "ipython",
    "version": 3
   },
   "file_extension": ".py",
   "mimetype": "text/x-python",
   "name": "python",
   "nbconvert_exporter": "python",
   "pygments_lexer": "ipython3",
   "version": "3.7.6"
  }
 },
 "nbformat": 4,
 "nbformat_minor": 2
}
